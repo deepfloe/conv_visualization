{
 "cells": [
  {
   "cell_type": "code",
   "execution_count": 28,
   "id": "502c831d",
   "metadata": {},
   "outputs": [],
   "source": [
    "import keras\n",
    "from keras.applications import vgg16\n",
    "import numpy as np\n",
    "import matplotlib.pyplot as plt\n",
    "import gradio as gr"
   ]
  },
  {
   "cell_type": "code",
   "execution_count": 29,
   "id": "a6d19cf6",
   "metadata": {},
   "outputs": [],
   "source": [
    "def get_conv_base():\n",
    "  conv_base = keras.applications.vgg16.VGG16(\n",
    "      weights = \"imagenet\",\n",
    "      include_top = False,\n",
    "      #input_shape = input_size + (3,)\n",
    "  )\n",
    "  return conv_base\n",
    "\n",
    "def run_conv_base(input_image, depth):\n",
    "    model = get_conv_base()\n",
    "    vgg_truncated = keras.Model(inputs = model.inputs, outputs = model.layers[depth].output)\n",
    "    input_image = np.array([input_image])\n",
    "    pre_processed = keras.applications.vgg16.preprocess_input(input_image)\n",
    "    return vgg_truncated(pre_processed)"
   ]
  },
  {
   "cell_type": "code",
   "execution_count": 30,
   "id": "adcd9a9e",
   "metadata": {},
   "outputs": [],
   "source": [
    "def plot_channels(input_image,depth):\n",
    "    result = run_conv_base(input_image, depth)\n",
    "    fig, ax = plt.subplots(nrows = 4, ncols= 3)\n",
    "    for k in range(12):\n",
    "        i = k%4\n",
    "        j = k//4\n",
    "        output_channel = result[0,:,:,k]\n",
    "        ax[i,j].imshow(output_channel, cmap=plt.cm.gray)\n",
    "        ax[i,j].get_xaxis().set_visible(False)\n",
    "        ax[i,j].get_yaxis().set_visible(False)\n",
    "    return fig"
   ]
  },
  {
   "cell_type": "code",
   "execution_count": 31,
   "id": "129cc34a",
   "metadata": {
    "scrolled": true
   },
   "outputs": [
    {
     "name": "stdout",
     "output_type": "stream",
     "text": [
      "Running on local URL:  http://127.0.0.1:7868\n",
      "\n",
      "To create a public link, set `share=True` in `launch()`.\n"
     ]
    },
    {
     "data": {
      "text/html": [
       "<div><iframe src=\"http://127.0.0.1:7868/\" width=\"100%\" height=\"500\" allow=\"autoplay; camera; microphone; clipboard-read; clipboard-write;\" frameborder=\"0\" allowfullscreen></iframe></div>"
      ],
      "text/plain": [
       "<IPython.core.display.HTML object>"
      ]
     },
     "metadata": {},
     "output_type": "display_data"
    },
    {
     "data": {
      "text/plain": []
     },
     "execution_count": 31,
     "metadata": {},
     "output_type": "execute_result"
    },
    {
     "name": "stderr",
     "output_type": "stream",
     "text": [
      "Traceback (most recent call last):\n",
      "  File \"/home/benjamin/anaconda3/envs/machine-learning-env/lib/python3.10/site-packages/gradio/routes.py\", line 422, in run_predict\n",
      "    output = await app.get_blocks().process_api(\n",
      "  File \"/home/benjamin/anaconda3/envs/machine-learning-env/lib/python3.10/site-packages/gradio/blocks.py\", line 1323, in process_api\n",
      "    result = await self.call_function(\n",
      "  File \"/home/benjamin/anaconda3/envs/machine-learning-env/lib/python3.10/site-packages/gradio/blocks.py\", line 1051, in call_function\n",
      "    prediction = await anyio.to_thread.run_sync(\n",
      "  File \"/home/benjamin/anaconda3/envs/machine-learning-env/lib/python3.10/site-packages/anyio/to_thread.py\", line 33, in run_sync\n",
      "    return await get_asynclib().run_sync_in_worker_thread(\n",
      "  File \"/home/benjamin/anaconda3/envs/machine-learning-env/lib/python3.10/site-packages/anyio/_backends/_asyncio.py\", line 877, in run_sync_in_worker_thread\n",
      "    return await future\n",
      "  File \"/home/benjamin/anaconda3/envs/machine-learning-env/lib/python3.10/site-packages/anyio/_backends/_asyncio.py\", line 807, in run\n",
      "    result = context.run(func, *args)\n",
      "  File \"/tmp/ipykernel_43109/1394154188.py\", line 2, in plot_channels\n",
      "    result = run_conv_base(input_image, depth)\n",
      "  File \"/tmp/ipykernel_43109/3081833714.py\", line 13, in run_conv_base\n",
      "    pre_processed = keras.applications.vgg16.preprocess_input(input_image)\n",
      "  File \"/home/benjamin/anaconda3/envs/machine-learning-env/lib/python3.10/site-packages/keras/applications/vgg16.py\", line 232, in preprocess_input\n",
      "    return imagenet_utils.preprocess_input(\n",
      "  File \"/home/benjamin/anaconda3/envs/machine-learning-env/lib/python3.10/site-packages/keras/applications/imagenet_utils.py\", line 114, in preprocess_input\n",
      "    return _preprocess_numpy_input(\n",
      "  File \"/home/benjamin/anaconda3/envs/machine-learning-env/lib/python3.10/site-packages/keras/applications/imagenet_utils.py\", line 232, in _preprocess_numpy_input\n",
      "    x[..., 1] -= mean[1]\n",
      "IndexError: index 1 is out of bounds for axis 0 with size 1\n"
     ]
    }
   ],
   "source": [
    "outputs = gr.Plot()\n",
    "demo = gr.Interface(fn=plot_channels, inputs=[\"image\",gr.Slider(0, 18, step =1)], outputs=outputs)\n",
    "demo.launch()"
   ]
  },
  {
   "cell_type": "code",
   "execution_count": 15,
   "id": "c536aa07",
   "metadata": {},
   "outputs": [],
   "source": [
    "model = get_conv_base()"
   ]
  },
  {
   "cell_type": "code",
   "execution_count": 20,
   "id": "77d74f2a",
   "metadata": {},
   "outputs": [
    {
     "data": {
      "text/plain": [
       "19"
      ]
     },
     "execution_count": 20,
     "metadata": {},
     "output_type": "execute_result"
    }
   ],
   "source": [
    "len(model.layers)"
   ]
  },
  {
   "cell_type": "code",
   "execution_count": null,
   "id": "eceff1be",
   "metadata": {},
   "outputs": [],
   "source": []
  }
 ],
 "metadata": {
  "kernelspec": {
   "display_name": "machine-learning-env",
   "language": "python",
   "name": "machine-learning-env"
  },
  "language_info": {
   "codemirror_mode": {
    "name": "ipython",
    "version": 3
   },
   "file_extension": ".py",
   "mimetype": "text/x-python",
   "name": "python",
   "nbconvert_exporter": "python",
   "pygments_lexer": "ipython3",
   "version": "3.10.9"
  }
 },
 "nbformat": 4,
 "nbformat_minor": 5
}
