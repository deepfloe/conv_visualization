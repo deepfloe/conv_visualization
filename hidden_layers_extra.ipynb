{
 "cells": [
  {
   "cell_type": "code",
   "execution_count": null,
   "id": "4f816f54",
   "metadata": {},
   "outputs": [],
   "source": [
    "def brightest_channels(tensor, n):\n",
    "    total_brightness = np.sum(a, axis = (0,1,2))\n",
    "    brightest_channel_indices = n_argmax(total_brightness,12)\n",
    "    return a[:,:,:,brightest_channel_indices]\n",
    "def n_argmax(array, n):\n",
    "    return (-array).argsort()[:n]\n",
    "def get_bird_array():\n",
    "    img = load_img('bird.jpg')\n",
    "    img_array = img_to_array(img)\n",
    "    img_array = resize(img_array, (512,384), preserve_aspect_ratio=True)\n",
    "    return img_array"
   ]
  }
 ],
 "metadata": {
  "kernelspec": {
   "display_name": "machine-learning-env",
   "language": "python",
   "name": "machine-learning-env"
  },
  "language_info": {
   "codemirror_mode": {
    "name": "ipython",
    "version": 3
   },
   "file_extension": ".py",
   "mimetype": "text/x-python",
   "name": "python",
   "nbconvert_exporter": "python",
   "pygments_lexer": "ipython3",
   "version": "3.10.9"
  }
 },
 "nbformat": 4,
 "nbformat_minor": 5
}
