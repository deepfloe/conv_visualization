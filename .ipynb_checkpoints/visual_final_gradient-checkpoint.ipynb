{
 "cells": [
  {
   "cell_type": "code",
   "execution_count": 1,
   "metadata": {
    "executionInfo": {
     "elapsed": 5106,
     "status": "ok",
     "timestamp": 1685956201325,
     "user": {
      "displayName": "Benjamin Aslan",
      "userId": "11983992098816008050"
     },
     "user_tz": -60
    },
    "id": "jJzZhsHEyDnp"
   },
   "outputs": [
    {
     "name": "stderr",
     "output_type": "stream",
     "text": [
      "2023-06-05 11:36:25.742727: W tensorflow/stream_executor/platform/default/dso_loader.cc:64] Could not load dynamic library 'libcudart.so.11.0'; dlerror: libcudart.so.11.0: cannot open shared object file: No such file or directory\n",
      "2023-06-05 11:36:25.742776: I tensorflow/stream_executor/cuda/cudart_stub.cc:29] Ignore above cudart dlerror if you do not have a GPU set up on your machine.\n",
      "/home/benjamin/anaconda3/envs/machine-learning-env/lib/python3.10/site-packages/tqdm/auto.py:22: TqdmWarning: IProgress not found. Please update jupyter and ipywidgets. See https://ipywidgets.readthedocs.io/en/stable/user_install.html\n",
      "  from .autonotebook import tqdm as notebook_tqdm\n"
     ]
    }
   ],
   "source": [
    "import tensorflow as tf\n",
    "import keras\n",
    "from keras import layers\n",
    "from tensorflow.keras.applications.vgg16 import VGG16\n",
    "from tensorflow.keras.preprocessing.image import load_img, img_to_array, array_to_img\n",
    "from tensorflow.keras.applications.vgg16 import preprocess_input, decode_predictions\n",
    "import numpy as np\n",
    "import matplotlib.pyplot as plt\n",
    "import matplotlib.cm as cm\n",
    "import gradio as gr"
   ]
  },
  {
   "cell_type": "code",
   "execution_count": 2,
   "metadata": {
    "executionInfo": {
     "elapsed": 45,
     "status": "ok",
     "timestamp": 1685956201327,
     "user": {
      "displayName": "Benjamin Aslan",
      "userId": "11983992098816008050"
     },
     "user_tz": -60
    },
    "id": "8lqecv4Qy0Hr"
   },
   "outputs": [],
   "source": [
    "def get_vgg_bottom():\n",
    "    model = VGG16(weights = \"imagenet\")\n",
    "    last_conv_layer_name = \"block5_pool\"\n",
    "    last_conv_layer = model.get_layer(name = last_conv_layer_name)\n",
    "    model_bottom = keras.Model(inputs = model.inputs, outputs = last_conv_layer.output)\n",
    "    return model_bottom\n",
    "def get_vgg_top():\n",
    "    model = VGG16(weights = \"imagenet\")\n",
    "    last_conv_layer_name = \"block5_pool\"\n",
    "    last_conv_layer = model.get_layer(name = last_conv_layer_name)\n",
    "    input_top = keras.Input(last_conv_layer.output.shape[1:])\n",
    "    layer_names_top = [\"flatten\", \"fc1\", \"fc2\", \"predictions\"]\n",
    "    x = input_top\n",
    "    for layer_name in layer_names_top:\n",
    "        x = model.get_layer(name = layer_name)(x)\n",
    "    model_top = keras.Model(input_top, x)\n",
    "    return model_top"
   ]
  },
  {
   "cell_type": "code",
   "execution_count": 3,
   "metadata": {
    "executionInfo": {
     "elapsed": 45,
     "status": "ok",
     "timestamp": 1685956201329,
     "user": {
      "displayName": "Benjamin Aslan",
      "userId": "11983992098816008050"
     },
     "user_tz": -60
    },
    "id": "B_Z0UkZklriB"
   },
   "outputs": [],
   "source": [
    "def convert_image_to_tensor(img):\n",
    "    img_array = img_to_array(img)\n",
    "    preprocessed = preprocess_input(img_array)\n",
    "    return np.expand_dims(preprocessed, axis = 0)"
   ]
  },
  {
   "cell_type": "code",
   "execution_count": 4,
   "metadata": {
    "executionInfo": {
     "elapsed": 40,
     "status": "ok",
     "timestamp": 1685956201330,
     "user": {
      "displayName": "Benjamin Aslan",
      "userId": "11983992098816008050"
     },
     "user_tz": -60
    },
    "id": "8p25TP20h7yI"
   },
   "outputs": [],
   "source": [
    "def vgg_prediction(img):\n",
    "    model = VGG16(weights = \"imagenet\")\n",
    "    img_tensor = convert_image_to_tensor(img)\n",
    "    vgg_pred = model.predict(img_tensor)\n",
    "    preds = decode_predictions(vgg_pred, top = 3)[0]\n",
    "    formatted_preds = ''\n",
    "    for pred in preds:\n",
    "        formatted_preds += pred[1]+': '+str(round(pred[2],4))+ '\\n'\n",
    "        \n",
    "    return formatted_preds"
   ]
  },
  {
   "cell_type": "code",
   "execution_count": null,
   "metadata": {
    "executionInfo": {
     "elapsed": 34,
     "status": "ok",
     "timestamp": 1685956201332,
     "user": {
      "displayName": "Benjamin Aslan",
      "userId": "11983992098816008050"
     },
     "user_tz": -60
    },
    "id": "1G_0q5KOzBls"
   },
   "outputs": [],
   "source": [
    "def load_test_image(name = \"elephant.jpg\", url = \"https://img-datasets.s3.amazonaws.com/elephant.jpg\"):\n",
    "    img_path = tf.keras.utils.get_file(fname = name, origin=url)\n",
    "    img = load_img(img_path, target_size = (224,224))\n",
    "    return img"
   ]
  },
  {
   "cell_type": "code",
   "execution_count": null,
   "metadata": {},
   "outputs": [],
   "source": [
    "img = load_test_image()\n"
   ]
  },
  {
   "cell_type": "code",
   "execution_count": null,
   "metadata": {},
   "outputs": [],
   "source": [
    "vgg_pred = vgg_prediction(img)"
   ]
  },
  {
   "cell_type": "code",
   "execution_count": null,
   "metadata": {},
   "outputs": [],
   "source": [
    "print(vgg_pred)"
   ]
  },
  {
   "cell_type": "code",
   "execution_count": null,
   "metadata": {
    "executionInfo": {
     "elapsed": 581,
     "status": "ok",
     "timestamp": 1685956201883,
     "user": {
      "displayName": "Benjamin Aslan",
      "userId": "11983992098816008050"
     },
     "user_tz": -60
    },
    "id": "a1pFTVQ5kVtE"
   },
   "outputs": [],
   "source": [
    "def gradient_top(bottom_output, model_top):\n",
    "    with tf.GradientTape() as tape:\n",
    "        tape.watch(bottom_output)\n",
    "        pred = model_top(bottom_output)\n",
    "        index_max = tf.argmax(pred[0])\n",
    "        top_channel = pred[:, index_max]\n",
    "    return tape.gradient(top_channel, bottom_output)"
   ]
  },
  {
   "cell_type": "code",
   "execution_count": null,
   "metadata": {
    "executionInfo": {
     "elapsed": 26,
     "status": "ok",
     "timestamp": 1685956201884,
     "user": {
      "displayName": "Benjamin Aslan",
      "userId": "11983992098816008050"
     },
     "user_tz": -60
    },
    "id": "l9rfmLopSeTc"
   },
   "outputs": [],
   "source": [
    "def apply_cmap(cmap, array):\n",
    "    array = np.uint8(array)\n",
    "    cmap_colors = cmap(np.arange(256))[:,:3]\n",
    "    return array_to_img(cmap_colors[array])"
   ]
  },
  {
   "cell_type": "code",
   "execution_count": null,
   "metadata": {
    "executionInfo": {
     "elapsed": 32,
     "status": "ok",
     "timestamp": 1685956201892,
     "user": {
      "displayName": "Benjamin Aslan",
      "userId": "11983992098816008050"
     },
     "user_tz": -60
    },
    "id": "AyaplY1WT0qK"
   },
   "outputs": [],
   "source": [
    "def weigh_output_gradient(bottom_output, grads):\n",
    "    bottom_output_np = bottom_output.numpy()[0]\n",
    "    grads_mean = tf.reduce_mean(grads, axis = (0,1,2)).numpy()\n",
    "    for i in range(len(grads_mean)):\n",
    "        bottom_output_np[:,:,i] *= grads_mean[i]\n",
    "    heatmap = np.mean(bottom_output_np, axis = -1)\n",
    "    heatmap = np.maximum(heatmap,0)\n",
    "    heatmap /= np.max(heatmap)\n",
    "    heatmap *= 255\n",
    "    red = cm.get_cmap(\"Reds\")\n",
    "    heatmap_resize = apply_cmap(red, heatmap).resize((224,224))\n",
    "    return heatmap_resize"
   ]
  },
  {
   "cell_type": "code",
   "execution_count": null,
   "metadata": {
    "executionInfo": {
     "elapsed": 32,
     "status": "ok",
     "timestamp": 1685956201894,
     "user": {
      "displayName": "Benjamin Aslan",
      "userId": "11983992098816008050"
     },
     "user_tz": -60
    },
    "id": "zNVpcI9EYnYn"
   },
   "outputs": [],
   "source": [
    "def superimpose_image(image1, image2, factor):\n",
    "    array1 = img_to_array(image1)\n",
    "    array2 = img_to_array(image2)\n",
    "    array_super = array1*factor+array2*(1-factor)\n",
    "    return array_to_img(array_super)"
   ]
  },
  {
   "cell_type": "code",
   "execution_count": null,
   "metadata": {
    "executionInfo": {
     "elapsed": 31,
     "status": "ok",
     "timestamp": 1685956201895,
     "user": {
      "displayName": "Benjamin Aslan",
      "userId": "11983992098816008050"
     },
     "user_tz": -60
    },
    "id": "6aBhyJJZqkTB"
   },
   "outputs": [],
   "source": [
    "def rgb2gray(rgb):\n",
    "    #https://stackoverflow.com/questions/12201577/how-can-i-convert-an-rgb-image-into-grayscale-in-python\n",
    "    gray = cm.get_cmap(\"Greys\")\n",
    "    rgb = img_to_array(rgb)\n",
    "    #print(rgb.shape)\n",
    "    img = np.dot(rgb[...,:3], [0.2989, 0.5870, 0.1140])\n",
    "    image_gray = apply_cmap(gray, img)\n",
    "    return image_gray"
   ]
  },
  {
   "cell_type": "code",
   "execution_count": null,
   "metadata": {
    "executionInfo": {
     "elapsed": 30,
     "status": "ok",
     "timestamp": 1685956201897,
     "user": {
      "displayName": "Benjamin Aslan",
      "userId": "11983992098816008050"
     },
     "user_tz": -60
    },
    "id": "T8xcNol7alxU"
   },
   "outputs": [],
   "source": [
    "def superimpose_image_with_cnn_gradient(image):\n",
    "    model_bottom = get_vgg_bottom()\n",
    "    model_top = get_vgg_top()\n",
    "    image_tensor = convert_image_to_tensor(image)\n",
    "    bottom_output = model_bottom(image_tensor)\n",
    "    grads = gradient_top(bottom_output, model_top)\n",
    "    heatmap = weigh_output_gradient(bottom_output, grads)\n",
    "    image_gray = rgb2gray(image)\n",
    "    combined_image = superimpose_image(image_gray, heatmap, 0.6)\n",
    "    return vgg_prediction(image), combined_image"
   ]
  },
  {
   "cell_type": "code",
   "execution_count": 5,
   "metadata": {},
   "outputs": [],
   "source": [
    "def test_function(image):\n",
    "    return vgg_prediction(image), image"
   ]
  },
  {
   "cell_type": "code",
   "execution_count": 7,
   "metadata": {
    "colab": {
     "base_uri": "https://localhost:8080/",
     "height": 633
    },
    "executionInfo": {
     "elapsed": 422029,
     "status": "ok",
     "timestamp": 1685956982784,
     "user": {
      "displayName": "Benjamin Aslan",
      "userId": "11983992098816008050"
     },
     "user_tz": -60
    },
    "id": "rl2wjcjoybE-",
    "outputId": "1365223c-f1ef-4315-d5e0-5725c72b5311"
   },
   "outputs": [
    {
     "name": "stdout",
     "output_type": "stream",
     "text": [
      "Running on local URL:  http://127.0.0.1:7860\n",
      "\n",
      "To create a public link, set `share=True` in `launch()`.\n"
     ]
    },
    {
     "data": {
      "text/html": [
       "<div><iframe src=\"http://127.0.0.1:7860/\" width=\"100%\" height=\"500\" allow=\"autoplay; camera; microphone; clipboard-read; clipboard-write;\" frameborder=\"0\" allowfullscreen></iframe></div>"
      ],
      "text/plain": [
       "<IPython.core.display.HTML object>"
      ]
     },
     "metadata": {},
     "output_type": "display_data"
    },
    {
     "name": "stderr",
     "output_type": "stream",
     "text": [
      "2023-06-05 11:38:14.216797: W tensorflow/stream_executor/platform/default/dso_loader.cc:64] Could not load dynamic library 'libcuda.so.1'; dlerror: libcuda.so.1: cannot open shared object file: No such file or directory\n",
      "2023-06-05 11:38:14.216861: W tensorflow/stream_executor/cuda/cuda_driver.cc:269] failed call to cuInit: UNKNOWN ERROR (303)\n",
      "2023-06-05 11:38:14.216896: I tensorflow/stream_executor/cuda/cuda_diagnostics.cc:156] kernel driver does not appear to be running on this host (benjamin-TravelMate-P645-S): /proc/driver/nvidia/version does not exist\n",
      "2023-06-05 11:38:14.218148: I tensorflow/core/platform/cpu_feature_guard.cc:151] This TensorFlow binary is optimized with oneAPI Deep Neural Network Library (oneDNN) to use the following CPU instructions in performance-critical operations:  AVX2 FMA\n",
      "To enable them in other operations, rebuild TensorFlow with the appropriate compiler flags.\n",
      "2023-06-05 11:38:14.583890: W tensorflow/core/framework/cpu_allocator_impl.cc:82] Allocation of 411041792 exceeds 10% of free system memory.\n",
      "2023-06-05 11:38:15.159855: W tensorflow/core/framework/cpu_allocator_impl.cc:82] Allocation of 411041792 exceeds 10% of free system memory.\n",
      "2023-06-05 11:38:15.685207: W tensorflow/core/framework/cpu_allocator_impl.cc:82] Allocation of 411041792 exceeds 10% of free system memory.\n",
      "2023-06-05 11:38:18.671178: W tensorflow/core/framework/cpu_allocator_impl.cc:82] Allocation of 67108864 exceeds 10% of free system memory.\n",
      "2023-06-05 11:38:18.794393: W tensorflow/core/framework/cpu_allocator_impl.cc:82] Allocation of 67108864 exceeds 10% of free system memory.\n"
     ]
    },
    {
     "name": "stdout",
     "output_type": "stream",
     "text": [
      "Keyboard interruption in main thread... closing server.\n"
     ]
    },
    {
     "data": {
      "text/plain": []
     },
     "execution_count": 7,
     "metadata": {},
     "output_type": "execute_result"
    }
   ],
   "source": [
    "#demo = gr.Interface(fn = superimpose_image_with_cnn_gradient, inputs = gr.Image(shape=(224, 224)), outputs = \"image\")\n",
    "demo = gr.Interface(fn = test_function, inputs = gr.Image(shape=(224, 224)), outputs = [\"text\",\"image\"])\n",
    "demo.launch(debug = True)"
   ]
  },
  {
   "cell_type": "code",
   "execution_count": null,
   "metadata": {
    "executionInfo": {
     "elapsed": 14,
     "status": "ok",
     "timestamp": 1685956202729,
     "user": {
      "displayName": "Benjamin Aslan",
      "userId": "11983992098816008050"
     },
     "user_tz": -60
    },
    "id": "kzWspUWP1H0E"
   },
   "outputs": [],
   "source": []
  }
 ],
 "metadata": {
  "colab": {
   "authorship_tag": "ABX9TyO1R27EgT2dKDoM3Oi1RjDG",
   "provenance": [
    {
     "file_id": "1Urha0O_4muLrEUfS9_8rRhOD9sRcjw0F",
     "timestamp": 1685957191850
    }
   ]
  },
  "kernelspec": {
   "display_name": "machine-learning-env",
   "language": "python",
   "name": "machine-learning-env"
  },
  "language_info": {
   "codemirror_mode": {
    "name": "ipython",
    "version": 3
   },
   "file_extension": ".py",
   "mimetype": "text/x-python",
   "name": "python",
   "nbconvert_exporter": "python",
   "pygments_lexer": "ipython3",
   "version": "3.10.9"
  }
 },
 "nbformat": 4,
 "nbformat_minor": 1
}
