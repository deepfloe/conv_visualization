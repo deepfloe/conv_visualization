{
 "cells": [
  {
   "cell_type": "code",
   "execution_count": 23,
   "id": "502c831d",
   "metadata": {},
   "outputs": [],
   "source": [
    "import keras\n",
    "from keras.applications import vgg16\n",
    "import numpy as np\n",
    "import matplotlib.pyplot as plt\n",
    "import gradio as gr\n",
    "import numpy as np\n",
    "from keras.preprocessing.image import load_img\n",
    "from keras.preprocessing.image import img_to_array\n",
    "from keras.preprocessing.image import array_to_img\n",
    "from tensorflow.image import resize"
   ]
  },
  {
   "cell_type": "code",
   "execution_count": 3,
   "id": "a6d19cf6",
   "metadata": {},
   "outputs": [],
   "source": [
    "def get_conv_base():\n",
    "    '''Return the convolutional base of the VGG model'''\n",
    "    conv_base = keras.applications.vgg16.VGG16(\n",
    "      weights = \"imagenet\",\n",
    "      include_top = False,\n",
    "    )\n",
    "    return conv_base\n",
    "\n",
    "def run_conv_base(input_image, depth):\n",
    "    '''Run the convolutional base and preprocessing pipeline of vgg to a variable depth.'''\n",
    "    model = get_conv_base() #this loads the full convolutional base\n",
    "    # we instantiate a new keras model, that outputs the result of the depth layer\n",
    "    vgg_truncated = keras.Model(inputs = model.inputs, outputs = model.layers[depth].output)\n",
    "    # this turns the shape of the array into the form (1, width, heigth, 3), which is needed for the preprocessing pipelien\n",
    "    input_image = np.array([input_image])\n",
    "    pre_processed = keras.applications.vgg16.preprocess_input(input_image)\n",
    "    return vgg_truncated(pre_processed)"
   ]
  },
  {
   "cell_type": "code",
   "execution_count": 34,
   "id": "adcd9a9e",
   "metadata": {},
   "outputs": [],
   "source": [
    "def plot_channels(input_image,depth):\n",
    "    '''Plot a grid of 8x8 images of features of the vgg model applied to the input image at variable depth.'''\n",
    "    # To keep computation time low, we resize the image \n",
    "    input_image_resized = resize(input_image, (512,384), preserve_aspect_ratio=True)\n",
    "    result = run_conv_base(input_image_resized, depth)\n",
    "    # the shape of result is (1,width,height, number of channels). In the later layers, there are up to 512 channels but we prefer to only plot the first 64\n",
    "    \n",
    "    fig, ax = plt.subplots(nrows = 8, ncols= 8)\n",
    "    for k in range(64):\n",
    "        i = k%8\n",
    "        j = k//8\n",
    "        output_channel = result[0,:,:,k]\n",
    "        ax[i,j].imshow(output_channel, cmap=plt.cm.gray)\n",
    "        ax[i,j].get_xaxis().set_visible(False)\n",
    "        ax[i,j].get_yaxis().set_visible(False)\n",
    "    # sets the space between subplots to 0\n",
    "    plt.subplots_adjust(wspace=0, hspace=0)\n",
    "    return fig"
   ]
  },
  {
   "cell_type": "code",
   "execution_count": 36,
   "id": "129cc34a",
   "metadata": {
    "scrolled": true
   },
   "outputs": [],
   "source": [
    "def launch_gradio_plot():\n",
    "    '''Produces a gradio visualization for the plot of vgg outputs as variable layer depth'''\n",
    "    outputs = gr.Plot()\n",
    "    demo = gr.Interface(fn=plot_channels, inputs=[\"image\",gr.Slider(1, 18, step =1)], outputs=outputs)\n",
    "    demo.launch()"
   ]
  },
  {
   "cell_type": "code",
   "execution_count": 37,
   "id": "3cf8b72b",
   "metadata": {},
   "outputs": [
    {
     "name": "stdout",
     "output_type": "stream",
     "text": [
      "Running on local URL:  http://127.0.0.1:7865\n",
      "\n",
      "To create a public link, set `share=True` in `launch()`.\n"
     ]
    },
    {
     "data": {
      "text/html": [
       "<div><iframe src=\"http://127.0.0.1:7865/\" width=\"100%\" height=\"500\" allow=\"autoplay; camera; microphone; clipboard-read; clipboard-write;\" frameborder=\"0\" allowfullscreen></iframe></div>"
      ],
      "text/plain": [
       "<IPython.core.display.HTML object>"
      ]
     },
     "metadata": {},
     "output_type": "display_data"
    },
    {
     "name": "stderr",
     "output_type": "stream",
     "text": [
      "Traceback (most recent call last):\n",
      "  File \"/home/benjamin/anaconda3/envs/machine-learning-env/lib/python3.10/site-packages/gradio/routes.py\", line 422, in run_predict\n",
      "    output = await app.get_blocks().process_api(\n",
      "  File \"/home/benjamin/anaconda3/envs/machine-learning-env/lib/python3.10/site-packages/gradio/blocks.py\", line 1323, in process_api\n",
      "    result = await self.call_function(\n",
      "  File \"/home/benjamin/anaconda3/envs/machine-learning-env/lib/python3.10/site-packages/gradio/blocks.py\", line 1051, in call_function\n",
      "    prediction = await anyio.to_thread.run_sync(\n",
      "  File \"/home/benjamin/anaconda3/envs/machine-learning-env/lib/python3.10/site-packages/anyio/to_thread.py\", line 33, in run_sync\n",
      "    return await get_asynclib().run_sync_in_worker_thread(\n",
      "  File \"/home/benjamin/anaconda3/envs/machine-learning-env/lib/python3.10/site-packages/anyio/_backends/_asyncio.py\", line 877, in run_sync_in_worker_thread\n",
      "    return await future\n",
      "  File \"/home/benjamin/anaconda3/envs/machine-learning-env/lib/python3.10/site-packages/anyio/_backends/_asyncio.py\", line 807, in run\n",
      "    result = context.run(func, *args)\n",
      "  File \"/tmp/ipykernel_22537/3249162264.py\", line 2, in plot_channels\n",
      "    input_image_resized = resize(input_image, (512,384), preserve_aspect_ratio=True)\n",
      "  File \"/home/benjamin/anaconda3/envs/machine-learning-env/lib/python3.10/site-packages/tensorflow/python/util/traceback_utils.py\", line 153, in error_handler\n",
      "    raise e.with_traceback(filtered_tb) from None\n",
      "  File \"/home/benjamin/anaconda3/envs/machine-learning-env/lib/python3.10/site-packages/tensorflow/python/framework/constant_op.py\", line 102, in convert_to_eager_tensor\n",
      "    return ops.EagerTensor(value, ctx.device_name, dtype)\n",
      "ValueError: Attempt to convert a value (None) with an unsupported type (<class 'NoneType'>) to a Tensor.\n"
     ]
    }
   ],
   "source": [
    "launch_gradio_plot()"
   ]
  },
  {
   "cell_type": "code",
   "execution_count": null,
   "id": "5b30babe",
   "metadata": {},
   "outputs": [],
   "source": []
  }
 ],
 "metadata": {
  "kernelspec": {
   "display_name": "machine-learning-env",
   "language": "python",
   "name": "machine-learning-env"
  },
  "language_info": {
   "codemirror_mode": {
    "name": "ipython",
    "version": 3
   },
   "file_extension": ".py",
   "mimetype": "text/x-python",
   "name": "python",
   "nbconvert_exporter": "python",
   "pygments_lexer": "ipython3",
   "version": "3.10.9"
  }
 },
 "nbformat": 4,
 "nbformat_minor": 5
}
